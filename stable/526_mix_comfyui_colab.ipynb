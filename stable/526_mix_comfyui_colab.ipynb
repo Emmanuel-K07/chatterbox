{
  "cells": [
    {
      "cell_type": "markdown",
      "metadata": {
        "id": "view-in-github",
        "colab_type": "text"
      },
      "source": [
        "<a href=\"https://colab.research.google.com/github/Emmanuel-K07/chatterbox/blob/master/stable/526_mix_comfyui_colab.ipynb\" target=\"_parent\"><img src=\"https://colab.research.google.com/assets/colab-badge.svg\" alt=\"Open In Colab\"/></a>"
      ]
    },
    {
      "cell_type": "code",
      "execution_count": null,
      "metadata": {
        "id": "SaAJk33ppFw1"
      },
      "outputs": [],
      "source": [
        "# Étape 1 : Purge complète pour repartir propre\n",
        "!rm -rf /usr/local/lib/python3.11/dist-packages/numpy* \\\n",
        "       /usr/local/lib/python3.11/dist-packages/~umpy* \\\n",
        "       /usr/local/lib/python3.11/dist-packages/PIL \\\n",
        "       /usr/local/lib/python3.11/dist-packages/torch* \\\n",
        "       /usr/local/lib/python3.11/dist-packages/torchvision* \\\n",
        "       /usr/local/lib/python3.11/dist-packages/torchaudio* \\\n",
        "       /usr/local/lib/python3.11/dist-packages/xformers* \\\n",
        "       /usr/local/lib/python3.11/dist-packages/pillow*\n",
        "\n",
        "!pip cache purge -q\n",
        "\n",
        "# Étape 2 : Installation cohérente (pas de versions qui se remplacent)\n",
        "!pip install --no-cache-dir torch==2.0.1+cu118 torchvision==0.15.2+cu118 torchaudio==2.0.2+cu118 --index-url https://download.pytorch.org/whl/cu118\n",
        "!pip install --no-cache-dir xformers==0.0.20 triton==2.0.0\n",
        "!pip install --no-cache-dir numpy==1.26.4 mediapipe==0.10.15\n",
        "!pip install --no-cache-dir pillow==10.2.0 addict yapf fvcore omegaconf\n",
        "\n",
        "# Étape 3 : Patch du bug PIL.Image.LINEAR (sans downgrade Pillow)\n",
        "import fileinput, sys\n",
        "import os\n",
        "\n",
        "transform_py = \"/content/ComfyUI/custom_nodes/comfy_controlnet_preprocessors/v11/oneformer/detectron2/data/transforms/transform.py\"\n",
        "\n",
        "if os.path.exists(transform_py):\n",
        "    with fileinput.FileInput(transform_py, inplace=True) as file:\n",
        "        for line in file:\n",
        "            # Remplace Image.LINEAR par Image.Resampling.BILINEAR (Pillow >=10)\n",
        "            sys.stdout.write(line.replace(\"Image.LINEAR\", \"Image.Resampling.BILINEAR\"))\n",
        "\n",
        "# Étape 4 : Lancer ComfyUI\n",
        "!wget -q https://github.com/cloudflare/cloudflared/releases/latest/download/cloudflared-linux-amd64 -O /content/cloudflared && chmod +x /content/cloudflared\n",
        "\n",
        "import atexit, subprocess, time, re, requests\n",
        "from random import randint\n",
        "from threading import Timer\n",
        "from queue import Queue\n",
        "\n",
        "def cloudflared(port, metrics_port, output_queue):\n",
        "    atexit.register(lambda p: p.terminate(), subprocess.Popen(\n",
        "        ['/content/cloudflared', 'tunnel', '--url', f'http://127.0.0.1:{port}', '--metrics', f'127.0.0.1:{metrics_port}'],\n",
        "        stdout=subprocess.DEVNULL, stderr=subprocess.STDOUT))\n",
        "    attempts, tunnel_url = 0, None\n",
        "    while attempts < 10 and not tunnel_url:\n",
        "        attempts += 1\n",
        "        time.sleep(3)\n",
        "        try:\n",
        "            tunnel_url = re.search(\"(?P<url>https?:\\/\\/[^\\s]+.trycloudflare.com)\",\n",
        "                                   requests.get(f'http://127.0.0.1:{metrics_port}/metrics').text).group(\"url\")\n",
        "        except:\n",
        "            pass\n",
        "    if not tunnel_url:\n",
        "        raise Exception(\"Impossible de connecter à Cloudflare\")\n",
        "    output_queue.put(tunnel_url)\n",
        "\n",
        "output_queue, metrics_port = Queue(), randint(8100, 9000)\n",
        "thread = Timer(2, cloudflared, args=(8188, metrics_port, output_queue))\n",
        "thread.start()\n",
        "thread.join()\n",
        "print(f\"Accès WebUI: {output_queue.get()}\")\n",
        "\n",
        "!python /content/ComfyUI/main.py --dont-print-server\n"
      ]
    },
    {
      "cell_type": "code",
      "source": [
        "pip install --force-reinstall torch==2.0.1+cu118 torchvision==0.15.2+cu118 torchaudio --index-url https://download.pytorch.org/whl/cu118\n"
      ],
      "metadata": {
        "id": "isVEEtAs_qjd"
      },
      "execution_count": null,
      "outputs": []
    }
  ],
  "metadata": {
    "accelerator": "GPU",
    "colab": {
      "private_outputs": true,
      "provenance": [],
      "machine_shape": "hm",
      "gpuType": "T4",
      "include_colab_link": true
    },
    "kernelspec": {
      "display_name": "Python 3",
      "name": "python3"
    },
    "language_info": {
      "name": "python",
      "version": "3.10.8"
    },
    "vscode": {
      "interpreter": {
        "hash": "e593ac106456af50ce7af38f9671c411b49d6cd90f9b885e167f0f594e09038c"
      }
    }
  },
  "nbformat": 4,
  "nbformat_minor": 0
}