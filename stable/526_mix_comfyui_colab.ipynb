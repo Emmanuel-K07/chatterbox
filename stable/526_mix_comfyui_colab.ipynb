{
  "cells": [
    {
      "cell_type": "markdown",
      "metadata": {
        "id": "view-in-github",
        "colab_type": "text"
      },
      "source": [
        "<a href=\"https://colab.research.google.com/github/Emmanuel-K07/chatterbox/blob/master/stable/526_mix_comfyui_colab.ipynb\" target=\"_parent\"><img src=\"https://colab.research.google.com/assets/colab-badge.svg\" alt=\"Open In Colab\"/></a>"
      ]
    },
    {
      "cell_type": "code",
      "execution_count": null,
      "metadata": {
        "id": "SaAJk33ppFw1"
      },
      "outputs": [],
      "source": [
        "# ComfyUI Installation for Google Colab - Version corrigée\n",
        "# Installation avec tunnel Cloudflare fonctionnel\n",
        "\n",
        "import subprocess\n",
        "import sys\n",
        "import os\n",
        "from pathlib import Path\n",
        "import requests\n",
        "import time\n",
        "\n",
        "def run_cmd(cmd, check=True, capture=False):\n",
        "    \"\"\"Execute command with proper error handling\"\"\"\n",
        "    print(f\"🔧 Exécution: {cmd[:80]}...\")\n",
        "    result = subprocess.run(cmd, shell=True, capture_output=capture, text=True, executable='/bin/bash')\n",
        "    if check and result.returncode != 0:\n",
        "        print(f\"❌ Erreur lors de: {cmd}\")\n",
        "        if capture and result.stderr:\n",
        "            print(f\"Erreur: {result.stderr}\")\n",
        "        return False\n",
        "    return result.stdout if capture else True\n",
        "\n",
        "print(\"🚀 Installation ComfyUI pour Google Colab\")\n",
        "print(\"=\" * 50)\n",
        "\n",
        "# 1. Préparation environnement\n",
        "print(\"📦 Préparation de l'environnement...\")\n",
        "os.chdir('/content')\n",
        "\n",
        "# 2. Installation PyTorch compatible (direct dans l'env système)\n",
        "print(\"🔥 Installation PyTorch + CUDA 11.8...\")\n",
        "run_cmd('pip install --upgrade pip wheel setuptools')\n",
        "run_cmd('pip install torch==2.1.0 torchvision==0.16.0 torchaudio==2.1.0 --index-url https://download.pytorch.org/whl/cu118')\n",
        "\n",
        "# 3. Installation xformers compatible\n",
        "print(\"⚡ Installation xformers optimisé...\")\n",
        "run_cmd('pip install xformers==0.0.22.post4 --index-url https://download.pytorch.org/whl/cu118')\n",
        "\n",
        "# 4. Résolution des conflits de versions\n",
        "print(\"🔧 Résolution des conflits de dépendances...\")\n",
        "run_cmd('pip install numpy==1.24.3 --force-reinstall')\n",
        "run_cmd('pip install pillow==10.0.1 --force-reinstall')\n",
        "run_cmd('pip install opencv-python-headless==4.8.1.78')\n",
        "\n",
        "# 5. Clone ComfyUI\n",
        "print(\"📥 Téléchargement ComfyUI...\")\n",
        "if os.path.exists('/content/ComfyUI'):\n",
        "    run_cmd('rm -rf /content/ComfyUI')\n",
        "run_cmd('git clone https://github.com/comfyanonymous/ComfyUI.git')\n",
        "\n",
        "os.chdir('/content/ComfyUI')\n",
        "\n",
        "# 6. Installation dépendances ComfyUI\n",
        "print(\"📚 Installation dépendances ComfyUI...\")\n",
        "run_cmd('pip install -r requirements.txt')\n",
        "run_cmd('pip install scipy scikit-image transformers accelerate safetensors')\n",
        "\n",
        "# 7. Installation ComfyUI Manager\n",
        "print(\"🔌 Installation ComfyUI Manager...\")\n",
        "manager_path = '/content/ComfyUI/custom_nodes/ComfyUI-Manager'\n",
        "if os.path.exists(manager_path):\n",
        "    run_cmd(f'rm -rf {manager_path}')\n",
        "run_cmd(f'git clone https://github.com/ltdrdata/ComfyUI-Manager.git {manager_path}')\n",
        "\n",
        "# 8. Installation nodes essentiels\n",
        "print(\"🔌 Installation des custom nodes essentiels...\")\n",
        "custom_nodes_dir = Path('/content/ComfyUI/custom_nodes')\n",
        "custom_nodes_dir.mkdir(exist_ok=True)\n",
        "\n",
        "essential_nodes = {\n",
        "    'comfyui_controlnet_aux': 'https://github.com/Fannovel16/comfyui_controlnet_aux.git',\n",
        "    'ComfyUI_IPAdapter_plus': 'https://github.com/cubiq/ComfyUI_IPAdapter_plus.git',\n",
        "    'ComfyUI-AnimateDiff-Evolved': 'https://github.com/Kosinkadink/ComfyUI-AnimateDiff-Evolved.git',\n",
        "    'ComfyUI-VideoHelperSuite': 'https://github.com/Kosinkadink/ComfyUI-VideoHelperSuite.git',\n",
        "    'was-node-suite-comfyui': 'https://github.com/WASasquatch/was-node-suite-comfyui.git'\n",
        "}\n",
        "\n",
        "for node_name, node_url in essential_nodes.items():\n",
        "    node_path = custom_nodes_dir / node_name\n",
        "    if node_path.exists():\n",
        "        run_cmd(f'rm -rf {node_path}')\n",
        "    print(f\"📥 Clonage {node_name}...\")\n",
        "    run_cmd(f'git clone {node_url} {node_path}', check=False)\n",
        "\n",
        "# 9. Installation des dépendances des custom nodes\n",
        "print(\"🔧 Installation dépendances des custom nodes...\")\n",
        "for node_dir in custom_nodes_dir.iterdir():\n",
        "    if node_dir.is_dir() and (node_dir / 'requirements.txt').exists():\n",
        "        print(f\"📦 Installation deps pour {node_dir.name}...\")\n",
        "        run_cmd(f'pip install -r {node_dir}/requirements.txt', check=False)\n",
        "\n",
        "run_cmd('pip install insightface==0.7.3', check=False)\n",
        "run_cmd('pip install onnxruntime-gpu', check=False)\n",
        "run_cmd('pip install mediapipe==0.10.8', check=False)\n",
        "\n",
        "# 10. Création des dossiers de modèles\n",
        "print(\"📁 Création des dossiers de modèles...\")\n",
        "models_base = Path('/content/ComfyUI/models')\n",
        "model_dirs = [\n",
        "    'checkpoints', 'controlnet', 'ipadapter', 'vae',\n",
        "    'clip_vision', 'animatediff_models', 'animatediff_motion_lora',\n",
        "    'upscale_models', 'embeddings'\n",
        "]\n",
        "\n",
        "for model_dir in model_dirs:\n",
        "    (models_base / model_dir).mkdir(parents=True, exist_ok=True)\n",
        "\n",
        "# 11. Téléchargement modèles essentiels\n",
        "print(\"🎨 Téléchargement des modèles essentiels...\")\n",
        "\n",
        "def download_model(url, path, description):\n",
        "    if Path(path).exists():\n",
        "        print(f\"✅ {description} déjà présent\")\n",
        "        return\n",
        "    print(f\"📥 Téléchargement {description}...\")\n",
        "    try:\n",
        "        run_cmd(f'wget -q --show-progress -O \"{path}\" \"{url}\"')\n",
        "        print(f\"✅ {description} téléchargé\")\n",
        "    except:\n",
        "        print(f\"❌ Échec téléchargement {description}\")\n",
        "\n",
        "# Modèles essentiels\n",
        "models_to_download = [\n",
        "    {\n",
        "        'url': 'https://huggingface.co/stabilityai/stable-diffusion-xl-base-1.0/resolve/main/sd_xl_base_1.0.safetensors',\n",
        "        'path': '/content/ComfyUI/models/checkpoints/sd_xl_base_1.0.safetensors',\n",
        "        'desc': 'SDXL Base Model (6.9GB)'\n",
        "    },\n",
        "    {\n",
        "        'url': 'https://huggingface.co/diffusers/controlnet-depth-sdxl-1.0/resolve/main/diffusion_pytorch_model.safetensors',\n",
        "        'path': '/content/ComfyUI/models/controlnet/controlnet_depth_sdxl.safetensors',\n",
        "        'desc': 'ControlNet Depth SDXL'\n",
        "    },\n",
        "    {\n",
        "        'url': 'https://huggingface.co/h94/IP-Adapter/resolve/main/sdxl_models/ip-adapter_sdxl.safetensors',\n",
        "        'path': '/content/ComfyUI/models/ipadapter/ip-adapter_sdxl.safetensors',\n",
        "        'desc': 'IP-Adapter SDXL'\n",
        "    },\n",
        "    {\n",
        "        'url': 'https://huggingface.co/h94/IP-Adapter/resolve/main/models/image_encoder/model.safetensors',\n",
        "        'path': '/content/ComfyUI/models/clip_vision/CLIP-ViT-H-14-laion2B-s32B-b79K.safetensors',\n",
        "        'desc': 'CLIP Vision Encoder'\n",
        "    },\n",
        "    {\n",
        "        'url': 'https://huggingface.co/guoyww/animatediff/resolve/main/mm_sd_v15_v2.ckpt',\n",
        "        'path': '/content/ComfyUI/models/animatediff_models/mm_sd_v15_v2.ckpt',\n",
        "        'desc': 'AnimateDiff Motion Model'\n",
        "    }\n",
        "]\n",
        "\n",
        "for model_info in models_to_download:\n",
        "    download_model(model_info['url'], model_info['path'], model_info['desc'])\n",
        "\n",
        "# 12. Configuration Cloudflare tunnel\n",
        "print(\"🌐 Configuration du tunnel Cloudflare...\")\n",
        "if not os.path.exists('/content/cloudflared'):\n",
        "    run_cmd('wget -q https://github.com/cloudflare/cloudflared/releases/latest/download/cloudflared-linux-amd64 -O /content/cloudflared')\n",
        "    run_cmd('chmod +x /content/cloudflared')\n",
        "\n",
        "# 13. Création du script de lancement CORRIGÉ\n",
        "print(\"🚀 Création du script de lancement corrigé...\")\n",
        "launch_script = '''#!/bin/bash\n",
        "cd /content/ComfyUI\n",
        "\n",
        "echo \"🔄 Nettoyage des processus existants...\"\n",
        "pkill -f cloudflared 2>/dev/null || true\n",
        "pkill -f \"python main.py\" 2>/dev/null || true\n",
        "sleep 2\n",
        "\n",
        "echo \"🌐 Démarrage du tunnel Cloudflare...\"\n",
        "nohup /content/cloudflared tunnel --url http://127.0.0.1:8188 > /tmp/cloudflared.log 2>&1 &\n",
        "\n",
        "# Attente du démarrage du tunnel\n",
        "echo \"⏳ Attente du tunnel Cloudflare...\"\n",
        "TUNNEL_PID=$!\n",
        "sleep 5\n",
        "\n",
        "# Vérification que cloudflared fonctionne\n",
        "if ! ps -p $TUNNEL_PID > /dev/null 2>&1; then\n",
        "    echo \"❌ Échec du démarrage du tunnel\"\n",
        "    echo \"📋 Logs cloudflared:\"\n",
        "    cat /tmp/cloudflared.log\n",
        "    exit 1\n",
        "fi\n",
        "\n",
        "# Récupération de l'URL du tunnel depuis les logs\n",
        "TUNNEL_URL=\"\"\n",
        "for i in {1..15}; do\n",
        "    # Chercher l'URL dans les logs cloudflared\n",
        "    TUNNEL_URL=$(grep -o 'https://[^[:space:]]*trycloudflare.com' /tmp/cloudflared.log 2>/dev/null | head -1)\n",
        "\n",
        "    if [ ! -z \"$TUNNEL_URL\" ]; then\n",
        "        echo \"✅ Tunnel actif: $TUNNEL_URL\"\n",
        "        break\n",
        "    fi\n",
        "\n",
        "    echo \"⏳ Recherche URL tunnel... ($i/15)\"\n",
        "    sleep 2\n",
        "done\n",
        "\n",
        "if [ -z \"$TUNNEL_URL\" ]; then\n",
        "    echo \"❌ Impossible de récupérer l'URL du tunnel\"\n",
        "    echo \"📋 Contenu des logs cloudflared:\"\n",
        "    cat /tmp/cloudflared.log\n",
        "    echo \"\"\n",
        "    echo \"🔧 Le tunnel fonctionne peut-être. Vérifiez manuellement les logs.\"\n",
        "else\n",
        "    echo \"🎉 ComfyUI sera accessible sur: $TUNNEL_URL\"\n",
        "    echo \"📋 Copiez cette URL pour accéder à ComfyUI\"\n",
        "fi\n",
        "\n",
        "# Attendre encore un peu que le tunnel soit bien établi\n",
        "sleep 3\n",
        "\n",
        "echo \"🚀 Démarrage de ComfyUI...\"\n",
        "echo \"📱 Interface sera disponible dans quelques secondes...\"\n",
        "\n",
        "# Démarrage de ComfyUI avec logs\n",
        "python main.py --listen 0.0.0.0 --port 8188 --dont-print-server 2>&1 | tee /tmp/comfyui.log\n",
        "'''\n",
        "\n",
        "with open('/content/launch_comfyui.sh', 'w') as f:\n",
        "    f.write(launch_script)\n",
        "run_cmd('chmod +x /content/launch_comfyui.sh')\n",
        "\n",
        "# 14. Création d'un script de vérification du statut\n",
        "status_script = '''#!/bin/bash\n",
        "echo \"📊 Statut des services ComfyUI\"\n",
        "echo \"=\" * 40\n",
        "\n",
        "echo \"🌐 Tunnel Cloudflare:\"\n",
        "if pgrep -f cloudflared > /dev/null; then\n",
        "    echo \"  ✅ Cloudflared actif\"\n",
        "    TUNNEL_URL=$(grep -o 'https://[^[:space:]]*trycloudflare.com' /tmp/cloudflared.log 2>/dev/null | head -1)\n",
        "    if [ ! -z \"$TUNNEL_URL\" ]; then\n",
        "        echo \"  🔗 URL: $TUNNEL_URL\"\n",
        "    else\n",
        "        echo \"  ⚠️  URL non trouvée dans les logs\"\n",
        "    fi\n",
        "else\n",
        "    echo \"  ❌ Cloudflared non actif\"\n",
        "fi\n",
        "\n",
        "echo \"\"\n",
        "echo \"🎨 ComfyUI:\"\n",
        "if pgrep -f \"python main.py\" > /dev/null; then\n",
        "    echo \"  ✅ ComfyUI actif sur port 8188\"\n",
        "else\n",
        "    echo \"  ❌ ComfyUI non actif\"\n",
        "fi\n",
        "\n",
        "echo \"\"\n",
        "echo \"📋 Logs récents:\"\n",
        "echo \"Cloudflared (dernières 5 lignes):\"\n",
        "tail -5 /tmp/cloudflared.log 2>/dev/null || echo \"  Pas de logs cloudflared\"\n",
        "echo \"\"\n",
        "echo \"ComfyUI (dernières 3 lignes):\"\n",
        "tail -3 /tmp/comfyui.log 2>/dev/null || echo \"  Pas de logs ComfyUI\"\n",
        "'''\n",
        "\n",
        "with open('/content/check_status.sh', 'w') as f:\n",
        "    f.write(status_script)\n",
        "run_cmd('chmod +x /content/check_status.sh')\n",
        "\n",
        "# 15. Patch de compatibilité Pillow\n",
        "print(\"🔧 Application des patchs de compatibilité...\")\n",
        "patch_cmd = '''\n",
        "find /content/ComfyUI -name \"*.py\" -type f -exec grep -l \"Image\\\\.LINEAR\\\\|Image\\\\.LANCZOS\" {} \\\\; 2>/dev/null | while read file; do\n",
        "    if [ -f \"$file\" ]; then\n",
        "        sed -i 's/Image\\\\.LINEAR/Image.Resampling.BILINEAR/g' \"$file\" 2>/dev/null || true\n",
        "        sed -i 's/Image\\\\.LANCZOS/Image.Resampling.LANCZOS/g' \"$file\" 2>/dev/null || true\n",
        "    fi\n",
        "done\n",
        "'''\n",
        "run_cmd(patch_cmd, check=False)\n",
        "\n",
        "print(\"✅ Installation terminée avec succès!\")\n",
        "print(\"=\" * 60)\n",
        "print()\n",
        "print(\"🚀 LANCEMENT:\")\n",
        "print(\"   Dans une nouvelle cellule, exécutez:\")\n",
        "print(\"   !bash /content/launch_comfyui.sh\")\n",
        "print()\n",
        "print(\"🔍 VÉRIFICATION STATUT:\")\n",
        "print(\"   Pour vérifier si tout fonctionne:\")\n",
        "print(\"   !bash /content/check_status.sh\")\n",
        "print()\n",
        "print(\"📁 DOSSIERS IMPORTANTS:\")\n",
        "print(\"   • ComfyUI: /content/ComfyUI\")\n",
        "print(\"   • Modèles: /content/ComfyUI/models/\")\n",
        "print(\"   • Input: /content/ComfyUI/input/\")\n",
        "print(\"   • Output: /content/ComfyUI/output/\")\n",
        "print()\n",
        "print(\"🐛 DÉPANNAGE:\")\n",
        "print(\"   • Logs Cloudflared: cat /tmp/cloudflared.log\")\n",
        "print(\"   • Logs ComfyUI: cat /tmp/comfyui.log\")\n",
        "print(\"   • Redémarrer: !bash /content/launch_comfyui.sh\")\n",
        "print()\n",
        "print(\"💡 CONSEILS:\")\n",
        "print(\"   • Attendez ~30 secondes après le lancement\")\n",
        "print(\"   • L'URL tunnel s'affiche dans les logs\")\n",
        "print(\"   • Utilisez ComfyUI Manager pour plus de nodes\")\n",
        "print(\"   • Uploadez vos images dans /content/ComfyUI/input/\")"
      ]
    },
    {
      "cell_type": "code",
      "source": [
        "   !bash /content/launch_comfyui.sh\n"
      ],
      "metadata": {
        "id": "2e7fiT0tJhiW"
      },
      "execution_count": null,
      "outputs": []
    },
    {
      "cell_type": "code",
      "source": [
        "# Dans une nouvelle cellule Colab, exécutez :\n",
        "!cat /tmp/cloudflared.log\n"
      ],
      "metadata": {
        "id": "cZN5d-tXKJ99"
      },
      "execution_count": null,
      "outputs": []
    },
    {
      "cell_type": "code",
      "source": [
        "!cd /content/ComfyUI && /content/cloudflared tunnel --url http://127.0.0.1:8188 &"
      ],
      "metadata": {
        "id": "6zQxgpDNKoU8"
      },
      "execution_count": null,
      "outputs": []
    },
    {
      "cell_type": "code",
      "source": [
        "!cd /content/ComfyUI && python main.py --listen 0.0.0.0 --port 8188"
      ],
      "metadata": {
        "id": "Wuk-Jdj-KzrC"
      },
      "execution_count": null,
      "outputs": []
    },
    {
      "cell_type": "code",
      "source": [
        "!cat /tmp/cloudflared.log | grep trycloudflare.com"
      ],
      "metadata": {
        "id": "dRcuVKOkK-vD"
      },
      "execution_count": null,
      "outputs": []
    },
    {
      "cell_type": "code",
      "source": [
        "!/content/cloudflared tunnel --url http://127.0.0.1:8188"
      ],
      "metadata": {
        "id": "3PUQ-4V7MW8x"
      },
      "execution_count": null,
      "outputs": []
    },
    {
      "cell_type": "code",
      "source": [
        "!pkill -f \"python main.py\" 2>/dev/null || true\n",
        "!pkill -f \"cloudflared\" 2>/dev/null || true"
      ],
      "metadata": {
        "id": "MLlVpF1bM0TV"
      },
      "execution_count": null,
      "outputs": []
    },
    {
      "cell_type": "code",
      "source": [
        "!cd /content/ComfyUI && nohup python main.py --listen 0.0.0.0 --port 8188 > /tmp/comfyui.log 2>&1 &"
      ],
      "metadata": {
        "id": "zu3KnN9LM43x"
      },
      "execution_count": null,
      "outputs": []
    },
    {
      "cell_type": "code",
      "source": [
        "!pkill -f \"python main.py\" 2>/dev/null || true\n",
        "!pkill -f \"cloudflared\" 2>/dev/null || true\n",
        "import time; time.sleep(2)"
      ],
      "metadata": {
        "id": "VjM3ThJKNamH"
      },
      "execution_count": null,
      "outputs": []
    },
    {
      "cell_type": "code",
      "source": [
        "import subprocess\n",
        "import os\n",
        "\n",
        "# Changer vers le dossier ComfyUI\n",
        "os.chdir('/content/ComfyUI')\n",
        "\n",
        "# Démarrer ComfyUI directement\n",
        "print(\"🚀 Démarrage de ComfyUI...\")\n",
        "!python main.py --listen 0.0.0.0 --port 8188 --dont-print-server &"
      ],
      "metadata": {
        "id": "DK-M55NdNcXc"
      },
      "execution_count": null,
      "outputs": []
    },
    {
      "cell_type": "code",
      "source": [
        "# Vérifier les processus actifs\n",
        "!ps aux | grep \"python main.py\" | grep -v grep\n",
        "\n",
        "# Vérifier les logs si besoin\n",
        "!tail -n 10 /tmp/comfyui_stdout.log"
      ],
      "metadata": {
        "id": "tsnRurl5OkWS"
      },
      "execution_count": null,
      "outputs": []
    },
    {
      "cell_type": "code",
      "source": [
        "import requests\n",
        "try:\n",
        "    response = requests.get('http://localhost:8188', timeout=5)\n",
        "    print(\"✅ ComfyUI actif et répond\")\n",
        "    print(\"🚀 Prêt pour le tunnel Cloudflare\")\n",
        "except Exception as e:\n",
        "    print(f\"❌ Problème: {e}\")"
      ],
      "metadata": {
        "id": "yRzpkhD7PBj0"
      },
      "execution_count": null,
      "outputs": []
    },
    {
      "cell_type": "code",
      "source": [
        "!/content/cloudflared tunnel --url http://127.0.0.1:8188"
      ],
      "metadata": {
        "id": "UQ-yDWzbPatU"
      },
      "execution_count": null,
      "outputs": []
    }
  ],
  "metadata": {
    "accelerator": "GPU",
    "colab": {
      "private_outputs": true,
      "provenance": [],
      "machine_shape": "hm",
      "gpuType": "T4",
      "include_colab_link": true
    },
    "kernelspec": {
      "display_name": "Python 3",
      "name": "python3"
    },
    "language_info": {
      "name": "python",
      "version": "3.10.8"
    },
    "vscode": {
      "interpreter": {
        "hash": "e593ac106456af50ce7af38f9671c411b49d6cd90f9b885e167f0f594e09038c"
      }
    }
  },
  "nbformat": 4,
  "nbformat_minor": 0
}